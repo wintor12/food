{
 "cells": [
  {
   "cell_type": "code",
   "execution_count": 1,
   "metadata": {
    "collapsed": true
   },
   "outputs": [],
   "source": [
    "from PIL import Image\n",
    "import numpy as np\n",
    "import os"
   ]
  },
  {
   "cell_type": "code",
   "execution_count": 2,
   "metadata": {
    "collapsed": false
   },
   "outputs": [
    {
     "name": "stdout",
     "output_type": "stream",
     "text": [
      "(500, 500, 3)\n"
     ]
    }
   ],
   "source": [
    "path='/home/tongwang/data/test_food_image_2/'\n",
    "im = Image.open('/home/tongwang/data/test_food_image_2/101&Fast_Food$12.bmp')\n",
    "im_array = np.array(im)\n",
    "print(im_array.shape)"
   ]
  },
  {
   "cell_type": "code",
   "execution_count": 3,
   "metadata": {
    "collapsed": true
   },
   "outputs": [],
   "source": [
    "rows=500\n",
    "cols=500\n",
    "channels=3\n",
    "train = 120\n",
    "test = 27"
   ]
  },
  {
   "cell_type": "code",
   "execution_count": 4,
   "metadata": {
    "collapsed": false
   },
   "outputs": [
    {
     "name": "stdout",
     "output_type": "stream",
     "text": [
      "(147, 3, 500, 500)\n",
      "(147,)\n"
     ]
    }
   ],
   "source": [
    "pic_names = os.listdir(path)\n",
    "pics = []\n",
    "labels = []\n",
    "for name in pic_names:\n",
    "    im = Image.open(path+name)\n",
    "    im_array = np.array(im)\n",
    "    if len(im_array.shape) == 3:\n",
    "        pics.append(im_array)\n",
    "        label = name[name.index('&')+1:name.index('$')]\n",
    "        if label == 'Fast_Food':\n",
    "            labels.append(0)\n",
    "        elif label == 'Pizza':\n",
    "            labels.append(1)\n",
    "        else:\n",
    "            labels.append(2)\n",
    "        \n",
    "\n",
    "X = np.zeros((len(pics),channels,rows,cols))\n",
    "for i in range(len(pics)):\n",
    "    for j in range(channels):\n",
    "        X[i][j] = pics[i][:,:,j]\n",
    "y = np.array(labels)\n",
    "\n",
    "print(X.shape)\n",
    "print(y.shape)\n",
    "\n",
    "np.random.seed(10)\n",
    "np.random.shuffle(X)\n",
    "np.random.seed(10)\n",
    "np.random.shuffle(y)\n",
    "X_train = X[:train]\n",
    "y_train = y[:train]\n",
    "X_test = X[train:]\n",
    "y_test = y[train:]"
   ]
  },
  {
   "cell_type": "code",
   "execution_count": 5,
   "metadata": {
    "collapsed": false
   },
   "outputs": [
    {
     "name": "stderr",
     "output_type": "stream",
     "text": [
      "Using Theano backend.\n",
      "Using gpu device 0: GeForce GTX 980 Ti (CNMeM is enabled with initial size: 80.0% of memory, cuDNN not available)\n"
     ]
    }
   ],
   "source": [
    "from keras.models import Sequential\n",
    "from keras.layers import Dense, Dropout, Activation, Flatten\n",
    "from keras.layers import Convolution2D, MaxPooling2D\n",
    "from keras.utils import np_utils\n",
    "from keras import backend as K"
   ]
  },
  {
   "cell_type": "code",
   "execution_count": 17,
   "metadata": {
    "collapsed": true
   },
   "outputs": [],
   "source": [
    "batch_size = 32\n",
    "nb_classes = 3\n",
    "nb_epoch = 20"
   ]
  },
  {
   "cell_type": "code",
   "execution_count": 18,
   "metadata": {
    "collapsed": true
   },
   "outputs": [],
   "source": [
    "Y_train = np_utils.to_categorical(y_train, 3)\n",
    "Y_test = np_utils.to_categorical(y_test, 3)"
   ]
  },
  {
   "cell_type": "code",
   "execution_count": 23,
   "metadata": {
    "collapsed": false
   },
   "outputs": [
    {
     "name": "stdout",
     "output_type": "stream",
     "text": [
      "Train on 120 samples, validate on 27 samples\n",
      "Epoch 1/20\n",
      "120/120 [==============================] - 1s - loss: 8.7683 - acc: 0.4083 - val_loss: 9.0355 - val_acc: 0.2963\n",
      "Epoch 2/20\n",
      "120/120 [==============================] - 1s - loss: 9.2149 - acc: 0.3750 - val_loss: 9.4317 - val_acc: 0.3704\n",
      "Epoch 3/20\n",
      "120/120 [==============================] - 1s - loss: 10.2672 - acc: 0.3417 - val_loss: 9.3219 - val_acc: 0.3704\n",
      "Epoch 4/20\n",
      "120/120 [==============================] - 1s - loss: 7.9562 - acc: 0.4333 - val_loss: 4.3516 - val_acc: 0.1852\n",
      "Epoch 5/20\n",
      "120/120 [==============================] - 1s - loss: 7.4640 - acc: 0.3750 - val_loss: 9.5515 - val_acc: 0.4074\n",
      "Epoch 6/20\n",
      "120/120 [==============================] - 1s - loss: 10.9658 - acc: 0.3167 - val_loss: 8.9545 - val_acc: 0.4444\n",
      "Epoch 7/20\n",
      "120/120 [==============================] - 1s - loss: 11.1467 - acc: 0.3000 - val_loss: 8.9545 - val_acc: 0.4444\n",
      "Epoch 8/20\n",
      "120/120 [==============================] - 1s - loss: 11.8291 - acc: 0.2667 - val_loss: 8.9545 - val_acc: 0.4444\n",
      "Epoch 9/20\n",
      "120/120 [==============================] - 1s - loss: 10.0652 - acc: 0.3583 - val_loss: 9.5515 - val_acc: 0.4074\n",
      "Epoch 10/20\n",
      "120/120 [==============================] - 1s - loss: 10.3424 - acc: 0.3583 - val_loss: 9.5515 - val_acc: 0.4074\n",
      "Epoch 11/20\n",
      "120/120 [==============================] - 1s - loss: 11.0140 - acc: 0.3167 - val_loss: 9.5515 - val_acc: 0.4074\n",
      "Epoch 12/20\n",
      "120/120 [==============================] - 1s - loss: 10.2502 - acc: 0.3583 - val_loss: 9.5515 - val_acc: 0.4074\n",
      "Epoch 13/20\n",
      "120/120 [==============================] - 1s - loss: 10.7436 - acc: 0.3333 - val_loss: 9.5515 - val_acc: 0.4074\n",
      "Epoch 14/20\n",
      "120/120 [==============================] - 1s - loss: 11.2827 - acc: 0.3000 - val_loss: 9.5515 - val_acc: 0.4074\n",
      "Epoch 15/20\n",
      "120/120 [==============================] - 1s - loss: 9.8052 - acc: 0.3917 - val_loss: 9.5515 - val_acc: 0.4074\n",
      "Epoch 16/20\n",
      "120/120 [==============================] - 1s - loss: 10.8799 - acc: 0.3250 - val_loss: 9.5515 - val_acc: 0.4074\n",
      "Epoch 17/20\n",
      "120/120 [==============================] - 1s - loss: 11.1484 - acc: 0.3083 - val_loss: 9.5515 - val_acc: 0.4074\n",
      "Epoch 18/20\n",
      "120/120 [==============================] - 1s - loss: 9.8052 - acc: 0.3917 - val_loss: 9.5515 - val_acc: 0.4074\n",
      "Epoch 19/20\n",
      "120/120 [==============================] - 1s - loss: 10.0967 - acc: 0.3667 - val_loss: 9.5515 - val_acc: 0.4074\n",
      "Epoch 20/20\n",
      "120/120 [==============================] - 1s - loss: 11.7982 - acc: 0.2583 - val_loss: 9.5519 - val_acc: 0.4074\n",
      "('Test score:', 9.551884651184082)\n",
      "('Test accuracy:', 0.40740740299224854)\n"
     ]
    }
   ],
   "source": [
    "model = Sequential()\n",
    "model.add(Convolution2D(4, 50, 50,border_mode='valid', subsample=(10,10),\n",
    "                        input_shape=(channels, rows, cols)))\n",
    "model.add(Activation('relu'))\n",
    "model.add(MaxPooling2D(pool_size=(2,2)))\n",
    "model.add(Convolution2D(4, 3, 3,border_mode='valid', subsample=(1,1)))\n",
    "model.add(Activation('relu'))\n",
    "model.add(MaxPooling2D(pool_size=(2,2)))\n",
    "model.add(Dropout(0.5))\n",
    "model.add(Flatten())\n",
    "model.add(Dense(20))\n",
    "model.add(Activation('relu'))\n",
    "model.add(Dropout(0.5))\n",
    "model.add(Dense(nb_classes))\n",
    "model.add(Activation('softmax'))\n",
    "model.compile(loss='categorical_crossentropy',\n",
    "              optimizer='adadelta',\n",
    "              metrics=['accuracy'])\n",
    "\n",
    "model.fit(X_train, Y_train, batch_size=batch_size, nb_epoch=nb_epoch,\n",
    "          verbose=1, validation_data=(X_test, Y_test))\n",
    "score = model.evaluate(X_test, Y_test, verbose=0)\n",
    "print('Test score:', score[0])\n",
    "print('Test accuracy:', score[1])"
   ]
  },
  {
   "cell_type": "code",
   "execution_count": 24,
   "metadata": {
    "collapsed": false
   },
   "outputs": [
    {
     "name": "stdout",
     "output_type": "stream",
     "text": [
      "____________________________________________________________________________________________________\n",
      "Layer (type)                     Output Shape          Param #     Connected to                     \n",
      "====================================================================================================\n",
      "convolution2d_21 (Convolution2D) (None, 4, 46, 46)     30004       convolution2d_input_11[0][0]     \n",
      "____________________________________________________________________________________________________\n",
      "activation_41 (Activation)       (None, 4, 46, 46)     0           convolution2d_21[0][0]           \n",
      "____________________________________________________________________________________________________\n",
      "maxpooling2d_21 (MaxPooling2D)   (None, 4, 23, 23)     0           activation_41[0][0]              \n",
      "____________________________________________________________________________________________________\n",
      "convolution2d_22 (Convolution2D) (None, 4, 21, 21)     148         maxpooling2d_21[0][0]            \n",
      "____________________________________________________________________________________________________\n",
      "activation_42 (Activation)       (None, 4, 21, 21)     0           convolution2d_22[0][0]           \n",
      "____________________________________________________________________________________________________\n",
      "maxpooling2d_22 (MaxPooling2D)   (None, 4, 10, 10)     0           activation_42[0][0]              \n",
      "____________________________________________________________________________________________________\n",
      "dropout_21 (Dropout)             (None, 4, 10, 10)     0           maxpooling2d_22[0][0]            \n",
      "____________________________________________________________________________________________________\n",
      "flatten_11 (Flatten)             (None, 400)           0           dropout_21[0][0]                 \n",
      "____________________________________________________________________________________________________\n",
      "dense_21 (Dense)                 (None, 20)            8020        flatten_11[0][0]                 \n",
      "____________________________________________________________________________________________________\n",
      "activation_43 (Activation)       (None, 20)            0           dense_21[0][0]                   \n",
      "____________________________________________________________________________________________________\n",
      "dropout_22 (Dropout)             (None, 20)            0           activation_43[0][0]              \n",
      "____________________________________________________________________________________________________\n",
      "dense_22 (Dense)                 (None, 3)             63          dropout_22[0][0]                 \n",
      "____________________________________________________________________________________________________\n",
      "activation_44 (Activation)       (None, 3)             0           dense_22[0][0]                   \n",
      "====================================================================================================\n",
      "Total params: 38235\n",
      "____________________________________________________________________________________________________\n"
     ]
    }
   ],
   "source": [
    "model.summary()"
   ]
  },
  {
   "cell_type": "code",
   "execution_count": null,
   "metadata": {
    "collapsed": true
   },
   "outputs": [],
   "source": []
  },
  {
   "cell_type": "code",
   "execution_count": 17,
   "metadata": {
    "collapsed": false
   },
   "outputs": [
    {
     "name": "stdout",
     "output_type": "stream",
     "text": [
      "[[ 0.46322173]\n",
      " [ 0.        ]\n",
      " [ 0.        ]\n",
      " ..., \n",
      " [ 0.        ]\n",
      " [ 0.        ]\n",
      " [ 0.        ]]\n"
     ]
    }
   ],
   "source": [
    "import cv2\n",
    "winSize = (64,64)\n",
    "blockSize = (16,16)\n",
    "blockStride = (8,8)\n",
    "cellSize = (8,8)\n",
    "nbins = 9\n",
    "derivAperture = 1\n",
    "winSigma = 4.\n",
    "histogramNormType = 0\n",
    "L2HysThreshold = 2.0000000000000001e-01\n",
    "gammaCorrection = 0\n",
    "nlevels = 64\n",
    "hog = cv2.HOGDescriptor(winSize,blockSize,blockStride,cellSize,nbins,derivAperture,winSigma,\n",
    "                        histogramNormType,L2HysThreshold,gammaCorrection,nlevels)\n",
    "winStride = (8,8)\n",
    "padding = (8,8)\n",
    "locations = ((10,20),)\n",
    "im = cv2.imread('/home/tongwang/data/test_food_image_2/101&Fast_Food$12.bmp')\n",
    "h = hog.compute(im)\n",
    "print(h)"
   ]
  },
  {
   "cell_type": "code",
   "execution_count": 71,
   "metadata": {
    "collapsed": true
   },
   "outputs": [],
   "source": [
    "pics2 = []\n",
    "hog = cv2.HOGDescriptor()\n",
    "for name in pic_names:\n",
    "    im = cv2.imread(path+name)\n",
    "    h = hog.compute(im)\n",
    "    if len(im_array.shape) == 3:\n",
    "        pics2.append(h)"
   ]
  },
  {
   "cell_type": "code",
   "execution_count": 73,
   "metadata": {
    "collapsed": false
   },
   "outputs": [],
   "source": [
    "X = np.array(pics2)"
   ]
  },
  {
   "cell_type": "code",
   "execution_count": null,
   "metadata": {
    "collapsed": true
   },
   "outputs": [],
   "source": [
    "                                                                                                                                                                                                                                                                                                                                                                                                                                                                                                                                                                                                                                                                                                                                                                                                                                                                                                                                                                                                                                                                                                                                                                                                                                                                                                                                                                                                                                                                                                                                                                                                                                                                                                                                                                                                                                                                                                                                                                                                                                                            "
   ]
  }
 ],
 "metadata": {
  "kernelspec": {
   "display_name": "Python 2",
   "language": "python",
   "name": "python2"
  },
  "language_info": {
   "codemirror_mode": {
    "name": "ipython",
    "version": 2
   },
   "file_extension": ".py",
   "mimetype": "text/x-python",
   "name": "python",
   "nbconvert_exporter": "python",
   "pygments_lexer": "ipython2",
   "version": "2.7.6"
  }
 },
 "nbformat": 4,
 "nbformat_minor": 1
}
