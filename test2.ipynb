{
 "cells": [
  {
   "cell_type": "code",
   "execution_count": 1,
   "metadata": {
    "collapsed": false
   },
   "outputs": [
    {
     "name": "stdout",
     "output_type": "stream",
     "text": [
      "(64, 64, 3)\n"
     ]
    }
   ],
   "source": [
    "from PIL import Image\n",
    "import numpy as np\n",
    "import os\n",
    "\n",
    "path='/home/tongwang/data/test_food_image_2/'\n",
    "im = Image.open('/home/tongwang/data/test_food_image_2/101&Burger_Sandwich$12.bmp')\n",
    "im_array = np.array(im)\n",
    "print(im_array.shape)\n",
    "\n",
    "rows=im_array.shape[0]\n",
    "cols=im_array.shape[1]\n",
    "channels=3\n",
    "train = 3500"
   ]
  },
  {
   "cell_type": "code",
   "execution_count": 7,
   "metadata": {
    "collapsed": false
   },
   "outputs": [
    {
     "name": "stdout",
     "output_type": "stream",
     "text": [
      "(3886, 64, 64, 3)\n",
      "(3886,)\n",
      "(3886, 64, 64, 3)\n",
      "(3886,)\n"
     ]
    }
   ],
   "source": [
    "pic_names = os.listdir(path)\n",
    "pics = []\n",
    "labels = []\n",
    "names = []\n",
    "for name in pic_names:\n",
    "    im = Image.open(path+name)\n",
    "    im_array = np.array(im)\n",
    "    if len(im_array.shape) == 3:\n",
    "        pics.append(im_array)\n",
    "        label = name[name.index('&')+1:name.index('$')]\n",
    "        names.append(name)\n",
    "        if label == 'Burger_Sandwich':\n",
    "            labels.append(0)\n",
    "        elif label == 'Pizza':\n",
    "            labels.append(1)\n",
    "        else:\n",
    "            labels.append(2)\n",
    "        \n",
    "\n",
    "X = np.array(pics) - 127\n",
    "y = np.array(labels)\n",
    "print(X.shape)\n",
    "print(y.shape)\n",
    "\n",
    "print(X.shape)\n",
    "print(y.shape)\n",
    "\n",
    "# np.random.seed(10)\n",
    "# np.random.shuffle(X)\n",
    "# np.random.seed(10)\n",
    "# np.random.shuffle(y)"
   ]
  },
  {
   "cell_type": "code",
   "execution_count": 11,
   "metadata": {
    "collapsed": false
   },
   "outputs": [
    {
     "name": "stdout",
     "output_type": "stream",
     "text": [
      "369&Pizza$8.bmp\n",
      "1\n"
     ]
    }
   ],
   "source": [
    "i = 99\n",
    "print(names[i])\n",
    "print(y[i])\n",
    "img = Image.fromarray(X[i], 'RGB')\n",
    "img.show()"
   ]
  },
  {
   "cell_type": "code",
   "execution_count": 8,
   "metadata": {
    "collapsed": false
   },
   "outputs": [
    {
     "data": {
      "text/plain": [
       "array([2, 0, 0, 2, 2, 2, 2, 1, 0, 2, 0, 0, 2, 2, 0, 0, 2, 1, 0, 1, 1, 0, 1,\n",
       "       0, 1, 0, 1, 1, 1, 1, 0, 0, 2, 1, 2, 1, 1, 1, 2, 2, 1, 2, 2, 0, 0, 0,\n",
       "       0, 0, 1, 0, 1, 2, 1, 1, 1, 1, 2, 0, 0, 0, 1, 0, 1, 2, 2, 0, 0, 2, 2,\n",
       "       0, 1, 2, 2, 1, 2, 1, 0, 1, 1, 2, 0, 2, 0, 2, 0, 1, 2, 1, 0, 1, 1, 0,\n",
       "       0, 2, 1, 0, 0, 2, 0, 1, 0, 1, 0, 2, 2, 2, 2, 0, 0, 0, 1, 2, 2, 2, 1,\n",
       "       1, 0, 2, 0, 2, 1, 2, 1, 0, 2, 0, 0, 2, 0, 0, 0, 0, 0, 2, 2, 1, 0, 0,\n",
       "       0, 0, 1, 0, 2, 1, 2, 1, 2, 1, 2, 0, 2, 0, 0, 2, 1, 0, 1, 2, 1, 0, 0,\n",
       "       1, 0, 1, 0, 1, 2, 2, 0, 0, 1, 1, 2, 0, 2, 1, 2, 2, 1, 1, 1, 1, 0, 2,\n",
       "       0, 2, 2, 0, 0, 1, 1, 0, 0, 0, 1, 2, 2, 1, 0, 2, 2, 1, 0, 0, 2, 1, 2,\n",
       "       1, 1, 1, 2, 2, 1, 0, 0, 1, 2, 1, 0, 1, 1, 0, 0, 2, 0, 2, 1, 0, 1, 1,\n",
       "       2, 2, 1, 1, 1, 2, 1, 0, 2, 0, 2, 2, 1, 2, 1, 2, 0, 0, 1, 2, 0, 1, 0,\n",
       "       0, 1, 0, 0, 0, 1, 0, 0, 1, 2, 2, 0, 0, 1, 0, 1, 0, 1, 0, 2, 1, 1, 2,\n",
       "       0, 1, 1, 0, 2, 0, 1, 1, 0, 0, 1, 0, 1, 1, 0, 2, 1, 2, 1, 0, 0, 2, 0,\n",
       "       0, 2, 2, 0, 0, 0, 0, 1, 0, 0, 0, 0, 2, 2, 1, 0, 1, 2, 1, 0, 1, 0, 1,\n",
       "       0, 1, 1, 0, 1, 2, 1, 1, 2, 1, 1, 0, 0, 1, 1, 1, 0, 1, 1, 0, 2, 2, 0,\n",
       "       1, 2, 2, 0, 2, 1, 1, 1, 2, 1, 2, 2, 2, 0, 1, 0, 2, 1, 2, 0, 1, 2, 2,\n",
       "       0, 0, 2, 1, 2, 1, 0, 0, 1, 2, 2, 0, 1, 1, 0, 1, 1, 0])"
      ]
     },
     "execution_count": 8,
     "metadata": {},
     "output_type": "execute_result"
    }
   ],
   "source": [
    "X_train = X[:train]\n",
    "y_train = y[:train]\n",
    "X_test = X[train:]\n",
    "y_test = y[train:]\n",
    "y_test"
   ]
  },
  {
   "cell_type": "code",
   "execution_count": 9,
   "metadata": {
    "collapsed": true
   },
   "outputs": [],
   "source": [
    "from sklearn.ensemble.forest import RandomForestClassifier"
   ]
  },
  {
   "cell_type": "code",
   "execution_count": 14,
   "metadata": {
    "collapsed": false
   },
   "outputs": [
    {
     "name": "stdout",
     "output_type": "stream",
     "text": [
      "======0=======\n",
      "0.588082901554\n",
      "======1=======\n",
      "0.603626943005\n",
      "======2=======\n",
      "0.577720207254\n",
      "======3=======\n",
      "0.608808290155\n",
      "======4=======\n",
      "0.616580310881\n",
      "0.59896373057\n"
     ]
    }
   ],
   "source": [
    "X_train2 = X_train.reshape(X_train.shape[0], -1)\n",
    "X_test2 = X_test.reshape(X_test.shape[0], -1)\n",
    "scores = []\n",
    "cross = 5\n",
    "for k in range(cross):\n",
    "    print('======' + str(k) + '=======')\n",
    "    classifier = RandomForestClassifier(n_estimators=100)\n",
    "    classifier.fit(X_train2, y_train)\n",
    "    s = classifier.score(X_test2,y_test)\n",
    "    print(s)\n",
    "    scores.append(s)\n",
    "print(sum(scores)/cross)"
   ]
  },
  {
   "cell_type": "code",
   "execution_count": 15,
   "metadata": {
    "collapsed": false
   },
   "outputs": [
    {
     "name": "stdout",
     "output_type": "stream",
     "text": [
      "======0=======\n",
      "0.564766839378\n",
      "======1=======\n",
      "0.564766839378\n",
      "======2=======\n",
      "0.564766839378\n",
      "======3=======\n",
      "0.564766839378\n",
      "======4=======\n",
      "0.564766839378\n",
      "0.564766839378\n"
     ]
    }
   ],
   "source": [
    "from sklearn.svm import SVC\n",
    "\n",
    "scores = []\n",
    "cross = 5\n",
    "for k in range(cross):\n",
    "    print('======' + str(k) + '=======')\n",
    "    classifier = SVC(C=1, kernel='poly')\n",
    "    classifier.fit(X_train2, y_train)\n",
    "    s = classifier.score(X_test2,y_test)\n",
    "    print(s)\n",
    "    scores.append(s)\n",
    "print(sum(scores)/cross)"
   ]
  },
  {
   "cell_type": "code",
   "execution_count": 18,
   "metadata": {
    "collapsed": false
   },
   "outputs": [
    {
     "name": "stdout",
     "output_type": "stream",
     "text": [
      "======0=======\n",
      "0.362694300518\n",
      "======1=======\n",
      "0.362694300518\n",
      "======2=======\n",
      "0.362694300518\n",
      "======3=======\n",
      "0.362694300518\n",
      "======4=======\n",
      "0.362694300518\n",
      "0.362694300518\n"
     ]
    }
   ],
   "source": [
    "from sklearn.neighbors import KNeighborsClassifier\n",
    "scores = []\n",
    "cross = 5\n",
    "for k in range(cross):\n",
    "    print('======' + str(k) + '=======')\n",
    "    classifier = KNeighborsClassifier(n_neighbors=5)\n",
    "    classifier.fit(X_train2, y_train)\n",
    "    s = classifier.score(X_test2,y_test)\n",
    "    print(s)\n",
    "    scores.append(s)\n",
    "print(sum(scores)/cross)"
   ]
  }
 ],
 "metadata": {
  "kernelspec": {
   "display_name": "Python 2",
   "language": "python",
   "name": "python2"
  },
  "language_info": {
   "codemirror_mode": {
    "name": "ipython",
    "version": 2
   },
   "file_extension": ".py",
   "mimetype": "text/x-python",
   "name": "python",
   "nbconvert_exporter": "python",
   "pygments_lexer": "ipython2",
   "version": "2.7.6"
  }
 },
 "nbformat": 4,
 "nbformat_minor": 1
}
